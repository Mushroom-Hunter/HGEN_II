{
 "cells": [
  {
   "cell_type": "code",
   "execution_count": 1,
   "id": "a0866e16",
   "metadata": {},
   "outputs": [],
   "source": [
    "import pandas as pd\n",
    "df = pd.read_csv('HGEN8341_finalproject_data.txt', sep='\\t')"
   ]
  },
  {
   "cell_type": "code",
   "execution_count": 2,
   "id": "5285e9ec",
   "metadata": {},
   "outputs": [
    {
     "data": {
      "text/html": [
       "<div>\n",
       "<style scoped>\n",
       "    .dataframe tbody tr th:only-of-type {\n",
       "        vertical-align: middle;\n",
       "    }\n",
       "\n",
       "    .dataframe tbody tr th {\n",
       "        vertical-align: top;\n",
       "    }\n",
       "\n",
       "    .dataframe thead th {\n",
       "        text-align: right;\n",
       "    }\n",
       "</style>\n",
       "<table border=\"1\" class=\"dataframe\">\n",
       "  <thead>\n",
       "    <tr style=\"text-align: right;\">\n",
       "      <th></th>\n",
       "      <th>ID</th>\n",
       "      <th>status</th>\n",
       "      <th>rs555599246</th>\n",
       "      <th>rs534396879</th>\n",
       "      <th>rs116742944</th>\n",
       "      <th>rs138086069</th>\n",
       "      <th>rs535042364</th>\n",
       "      <th>rs149361586</th>\n",
       "      <th>rs6139892</th>\n",
       "      <th>rs539660332</th>\n",
       "      <th>...</th>\n",
       "      <th>rs573290396</th>\n",
       "      <th>rs562245681</th>\n",
       "      <th>rs6133388</th>\n",
       "      <th>rs573944939</th>\n",
       "      <th>rs79146750</th>\n",
       "      <th>rs149592753</th>\n",
       "      <th>rs577761377</th>\n",
       "      <th>rs6140157</th>\n",
       "      <th>rs185180844</th>\n",
       "      <th>rs527420293</th>\n",
       "    </tr>\n",
       "  </thead>\n",
       "  <tbody>\n",
       "    <tr>\n",
       "      <th>0</th>\n",
       "      <td>NA06984</td>\n",
       "      <td>case</td>\n",
       "      <td>0/0</td>\n",
       "      <td>0/0</td>\n",
       "      <td>0/0</td>\n",
       "      <td>0/0</td>\n",
       "      <td>0/0</td>\n",
       "      <td>0/0</td>\n",
       "      <td>1/1</td>\n",
       "      <td>0/0</td>\n",
       "      <td>...</td>\n",
       "      <td>0/0</td>\n",
       "      <td>0/0</td>\n",
       "      <td>0/0</td>\n",
       "      <td>0/0</td>\n",
       "      <td>0/0</td>\n",
       "      <td>0/0</td>\n",
       "      <td>0/0</td>\n",
       "      <td>1/1</td>\n",
       "      <td>0/0</td>\n",
       "      <td>0/0</td>\n",
       "    </tr>\n",
       "    <tr>\n",
       "      <th>1</th>\n",
       "      <td>NA06986</td>\n",
       "      <td>case</td>\n",
       "      <td>0/0</td>\n",
       "      <td>0/0</td>\n",
       "      <td>0/0</td>\n",
       "      <td>0/0</td>\n",
       "      <td>0/0</td>\n",
       "      <td>0/1</td>\n",
       "      <td>1/1</td>\n",
       "      <td>0/0</td>\n",
       "      <td>...</td>\n",
       "      <td>0/0</td>\n",
       "      <td>0/0</td>\n",
       "      <td>0/0</td>\n",
       "      <td>0/0</td>\n",
       "      <td>0/0</td>\n",
       "      <td>0/0</td>\n",
       "      <td>0/0</td>\n",
       "      <td>1/1</td>\n",
       "      <td>0/0</td>\n",
       "      <td>0/0</td>\n",
       "    </tr>\n",
       "    <tr>\n",
       "      <th>2</th>\n",
       "      <td>NA06989</td>\n",
       "      <td>case</td>\n",
       "      <td>0/0</td>\n",
       "      <td>0/0</td>\n",
       "      <td>0/0</td>\n",
       "      <td>0/0</td>\n",
       "      <td>0/0</td>\n",
       "      <td>0/0</td>\n",
       "      <td>0/1</td>\n",
       "      <td>0/0</td>\n",
       "      <td>...</td>\n",
       "      <td>0/0</td>\n",
       "      <td>0/0</td>\n",
       "      <td>0/1</td>\n",
       "      <td>0/0</td>\n",
       "      <td>0/0</td>\n",
       "      <td>0/0</td>\n",
       "      <td>0/0</td>\n",
       "      <td>1/1</td>\n",
       "      <td>0/0</td>\n",
       "      <td>0/0</td>\n",
       "    </tr>\n",
       "    <tr>\n",
       "      <th>3</th>\n",
       "      <td>NA07000</td>\n",
       "      <td>case</td>\n",
       "      <td>0/0</td>\n",
       "      <td>0/0</td>\n",
       "      <td>0/0</td>\n",
       "      <td>0/0</td>\n",
       "      <td>0/0</td>\n",
       "      <td>0/0</td>\n",
       "      <td>1/1</td>\n",
       "      <td>0/0</td>\n",
       "      <td>...</td>\n",
       "      <td>0/0</td>\n",
       "      <td>0/0</td>\n",
       "      <td>0/0</td>\n",
       "      <td>0/0</td>\n",
       "      <td>0/0</td>\n",
       "      <td>0/0</td>\n",
       "      <td>0/0</td>\n",
       "      <td>1/1</td>\n",
       "      <td>0/0</td>\n",
       "      <td>0/0</td>\n",
       "    </tr>\n",
       "    <tr>\n",
       "      <th>4</th>\n",
       "      <td>NA07037</td>\n",
       "      <td>case</td>\n",
       "      <td>0/0</td>\n",
       "      <td>0/0</td>\n",
       "      <td>0/0</td>\n",
       "      <td>0/0</td>\n",
       "      <td>0/0</td>\n",
       "      <td>0/0</td>\n",
       "      <td>1/1</td>\n",
       "      <td>0/0</td>\n",
       "      <td>...</td>\n",
       "      <td>0/0</td>\n",
       "      <td>0/0</td>\n",
       "      <td>0/0</td>\n",
       "      <td>0/0</td>\n",
       "      <td>0/1</td>\n",
       "      <td>0/0</td>\n",
       "      <td>0/0</td>\n",
       "      <td>1/1</td>\n",
       "      <td>0/0</td>\n",
       "      <td>0/0</td>\n",
       "    </tr>\n",
       "  </tbody>\n",
       "</table>\n",
       "<p>5 rows × 28746 columns</p>\n",
       "</div>"
      ],
      "text/plain": [
       "        ID status rs555599246 rs534396879 rs116742944 rs138086069 rs535042364  \\\n",
       "0  NA06984   case         0/0         0/0         0/0         0/0         0/0   \n",
       "1  NA06986   case         0/0         0/0         0/0         0/0         0/0   \n",
       "2  NA06989   case         0/0         0/0         0/0         0/0         0/0   \n",
       "3  NA07000   case         0/0         0/0         0/0         0/0         0/0   \n",
       "4  NA07037   case         0/0         0/0         0/0         0/0         0/0   \n",
       "\n",
       "  rs149361586 rs6139892 rs539660332  ... rs573290396 rs562245681 rs6133388  \\\n",
       "0         0/0       1/1         0/0  ...         0/0         0/0       0/0   \n",
       "1         0/1       1/1         0/0  ...         0/0         0/0       0/0   \n",
       "2         0/0       0/1         0/0  ...         0/0         0/0       0/1   \n",
       "3         0/0       1/1         0/0  ...         0/0         0/0       0/0   \n",
       "4         0/0       1/1         0/0  ...         0/0         0/0       0/0   \n",
       "\n",
       "  rs573944939 rs79146750 rs149592753 rs577761377 rs6140157 rs185180844  \\\n",
       "0         0/0        0/0         0/0         0/0       1/1         0/0   \n",
       "1         0/0        0/0         0/0         0/0       1/1         0/0   \n",
       "2         0/0        0/0         0/0         0/0       1/1         0/0   \n",
       "3         0/0        0/0         0/0         0/0       1/1         0/0   \n",
       "4         0/0        0/1         0/0         0/0       1/1         0/0   \n",
       "\n",
       "  rs527420293  \n",
       "0         0/0  \n",
       "1         0/0  \n",
       "2         0/0  \n",
       "3         0/0  \n",
       "4         0/0  \n",
       "\n",
       "[5 rows x 28746 columns]"
      ]
     },
     "execution_count": 2,
     "metadata": {},
     "output_type": "execute_result"
    }
   ],
   "source": [
    "df.head()"
   ]
  },
  {
   "cell_type": "code",
   "execution_count": 4,
   "id": "07597688",
   "metadata": {},
   "outputs": [
    {
     "data": {
      "text/html": [
       "<div>\n",
       "<style scoped>\n",
       "    .dataframe tbody tr th:only-of-type {\n",
       "        vertical-align: middle;\n",
       "    }\n",
       "\n",
       "    .dataframe tbody tr th {\n",
       "        vertical-align: top;\n",
       "    }\n",
       "\n",
       "    .dataframe thead th {\n",
       "        text-align: right;\n",
       "    }\n",
       "</style>\n",
       "<table border=\"1\" class=\"dataframe\">\n",
       "  <thead>\n",
       "    <tr style=\"text-align: right;\">\n",
       "      <th></th>\n",
       "      <th>rs6139892</th>\n",
       "    </tr>\n",
       "  </thead>\n",
       "  <tbody>\n",
       "    <tr>\n",
       "      <th>0</th>\n",
       "      <td>1/1</td>\n",
       "    </tr>\n",
       "    <tr>\n",
       "      <th>1</th>\n",
       "      <td>1/1</td>\n",
       "    </tr>\n",
       "    <tr>\n",
       "      <th>2</th>\n",
       "      <td>0/1</td>\n",
       "    </tr>\n",
       "    <tr>\n",
       "      <th>3</th>\n",
       "      <td>1/1</td>\n",
       "    </tr>\n",
       "    <tr>\n",
       "      <th>4</th>\n",
       "      <td>1/1</td>\n",
       "    </tr>\n",
       "    <tr>\n",
       "      <th>...</th>\n",
       "      <td>...</td>\n",
       "    </tr>\n",
       "    <tr>\n",
       "      <th>145</th>\n",
       "      <td>1/1</td>\n",
       "    </tr>\n",
       "    <tr>\n",
       "      <th>146</th>\n",
       "      <td>1/1</td>\n",
       "    </tr>\n",
       "    <tr>\n",
       "      <th>147</th>\n",
       "      <td>1/1</td>\n",
       "    </tr>\n",
       "    <tr>\n",
       "      <th>148</th>\n",
       "      <td>1/1</td>\n",
       "    </tr>\n",
       "    <tr>\n",
       "      <th>149</th>\n",
       "      <td>1/1</td>\n",
       "    </tr>\n",
       "  </tbody>\n",
       "</table>\n",
       "<p>150 rows × 1 columns</p>\n",
       "</div>"
      ],
      "text/plain": [
       "    rs6139892\n",
       "0         1/1\n",
       "1         1/1\n",
       "2         0/1\n",
       "3         1/1\n",
       "4         1/1\n",
       "..        ...\n",
       "145       1/1\n",
       "146       1/1\n",
       "147       1/1\n",
       "148       1/1\n",
       "149       1/1\n",
       "\n",
       "[150 rows x 1 columns]"
      ]
     },
     "execution_count": 4,
     "metadata": {},
     "output_type": "execute_result"
    }
   ],
   "source": [
    "df[['rs6139892']]"
   ]
  },
  {
   "cell_type": "code",
   "execution_count": 7,
   "id": "f6eaa34c",
   "metadata": {},
   "outputs": [
    {
     "name": "stdout",
     "output_type": "stream",
     "text": [
      "rs6139892    111\n",
      "dtype: int64\n",
      "rs6139892    29\n",
      "dtype: int64\n",
      "rs6139892    10\n",
      "dtype: int64\n"
     ]
    }
   ],
   "source": [
    "print((df[['rs6139892']]=='1/1').sum())\n",
    "print((df[['rs6139892']]=='0/1').sum())\n",
    "print((df[['rs6139892']]=='0/0').sum())"
   ]
  },
  {
   "cell_type": "code",
   "execution_count": 10,
   "id": "23eb74fe",
   "metadata": {},
   "outputs": [
    {
     "data": {
      "text/plain": [
       "0.8366666666666667"
      ]
     },
     "execution_count": 10,
     "metadata": {},
     "output_type": "execute_result"
    }
   ],
   "source": [
    "alt_af = (111*2+29)/300\n",
    "alt_af"
   ]
  },
  {
   "cell_type": "code",
   "execution_count": 12,
   "id": "373b0062",
   "metadata": {},
   "outputs": [
    {
     "name": "stdout",
     "output_type": "stream",
     "text": [
      "10 29 111\n",
      "4.001666666666666 40.99666666666666 105.00166666666667\n"
     ]
    }
   ],
   "source": [
    "obs_00 = 10\n",
    "obs_01 = 29\n",
    "obs_11 = 111\n",
    "exp_00 = 150*(1-alt_af)**2\n",
    "exp_01 = 150*2*alt_af*(1-alt_af)\n",
    "exp_11 = 150*alt_af**2\n",
    "print(obs_00, obs_01, obs_11)\n",
    "print(exp_00, exp_01, exp_11)"
   ]
  },
  {
   "cell_type": "code",
   "execution_count": 13,
   "id": "39cdc68d",
   "metadata": {},
   "outputs": [
    {
     "name": "stdout",
     "output_type": "stream",
     "text": [
      "12.844445174875121\n"
     ]
    }
   ],
   "source": [
    "x_squared = ((obs_00-exp_00)**2)/exp_00 + ((obs_01-exp_01)**2)/exp_01 + ((obs_11-exp_11)**2)/exp_11\n",
    "print(x_squared)"
   ]
  },
  {
   "cell_type": "code",
   "execution_count": 14,
   "id": "b8aaeb79",
   "metadata": {},
   "outputs": [],
   "source": [
    "from scipy.stats import chisquare\n",
    "from scipy.stats import chi2"
   ]
  },
  {
   "cell_type": "code",
   "execution_count": 17,
   "id": "3f9458fe",
   "metadata": {},
   "outputs": [
    {
     "data": {
      "text/plain": [
       "0.0003384825581878985"
      ]
     },
     "execution_count": 17,
     "metadata": {},
     "output_type": "execute_result"
    }
   ],
   "source": [
    "chi2.sf(x_squared, df=1)"
   ]
  },
  {
   "cell_type": "code",
   "execution_count": 19,
   "id": "11d53717",
   "metadata": {},
   "outputs": [
    {
     "data": {
      "text/plain": [
       "0.0003384825581878985"
      ]
     },
     "execution_count": 19,
     "metadata": {},
     "output_type": "execute_result"
    }
   ],
   "source": [
    "chisquare(f_obs=[obs_00,obs_01,obs_11], f_exp=[exp_00,exp_01,exp_11], ddof=1)[1]"
   ]
  },
  {
   "cell_type": "code",
   "execution_count": 22,
   "id": "e5408bcd",
   "metadata": {},
   "outputs": [
    {
     "data": {
      "text/plain": [
       "Power_divergenceResult(statistic=2950.4333232376107, pvalue=0.0)"
      ]
     },
     "execution_count": 22,
     "metadata": {},
     "output_type": "execute_result"
    }
   ],
   "source": [
    "chisquare(f_exp=[105.00166667,40.99666667,4.00166667] , f_obs=[ 10,29,111], ddof=1)"
   ]
  },
  {
   "cell_type": "code",
   "execution_count": 23,
   "id": "2c6934de",
   "metadata": {},
   "outputs": [
    {
     "data": {
      "text/plain": [
       "[4.001666666666666, 40.99666666666666, 105.00166666666667]"
      ]
     },
     "execution_count": 23,
     "metadata": {},
     "output_type": "execute_result"
    }
   ],
   "source": [
    "[exp_00,exp_01,exp_11]"
   ]
  },
  {
   "cell_type": "code",
   "execution_count": null,
   "id": "45c64a92",
   "metadata": {},
   "outputs": [],
   "source": []
  }
 ],
 "metadata": {
  "kernelspec": {
   "display_name": "Python 3",
   "language": "python",
   "name": "python3"
  },
  "language_info": {
   "codemirror_mode": {
    "name": "ipython",
    "version": 3
   },
   "file_extension": ".py",
   "mimetype": "text/x-python",
   "name": "python",
   "nbconvert_exporter": "python",
   "pygments_lexer": "ipython3",
   "version": "3.7.7"
  }
 },
 "nbformat": 4,
 "nbformat_minor": 5
}
